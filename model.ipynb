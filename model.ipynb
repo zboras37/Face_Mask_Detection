{
 "cells": [
  {
   "cell_type": "code",
   "execution_count": 28,
   "metadata": {},
   "outputs": [],
   "source": [
    "import numpy as np \n",
    "import pandas as pd \n",
    "import tensorflow as tf\n",
    "import cv2 as cv\n",
    "import matplotlib.pyplot as plt\n",
    "from time import perf_counter"
   ]
  },
  {
   "cell_type": "code",
   "execution_count": null,
   "metadata": {},
   "outputs": [],
   "source": [
    "import os"
   ]
  },
  {
   "cell_type": "code",
   "execution_count": 29,
   "metadata": {},
   "outputs": [],
   "source": [
    "#import os\n",
    "#file_paths =[]\n",
    "#only_files=[]\n",
    "#for path, subdir, files in os.walk('dataset'):\n",
    "#    for file in files:\n",
    "#        file_paths.append(os.path.join(path,file))\n",
    "#        only_files.append(file)\n"
   ]
  },
  {
   "cell_type": "code",
   "execution_count": 30,
   "metadata": {},
   "outputs": [],
   "source": [
    "#i = 0\n",
    "#for i in range(len(file_paths)):\n",
    "#    image = cv.imread(file_paths[i])\n",
    "#    image = cv.resize(image, (256,144))\n",
    "#    cv.imwrite(file_paths[i],image)"
   ]
  },
  {
   "cell_type": "code",
   "execution_count": 32,
   "metadata": {},
   "outputs": [
    {
     "name": "stdout",
     "output_type": "stream",
     "text": [
      "Found 76 files belonging to 2 classes.\n"
     ]
    }
   ],
   "source": [
    "ds_train = tf.keras.preprocessing.image_dataset_from_directory('dataset_sized', labels = 'inferred', label_mode='int', \n",
    "                                                                #class_names=['bike','car','juggernaut','minibus', 'pickup','truck'],\n",
    "                                                                color_mode='rgb', batch_size=32,\n",
    "                                                                image_size=(144,256), shuffle=True,\n",
    "                                                                seed=42) #validation_split=0.1,\n",
    "                                                                #subset='training')"
   ]
  },
  {
   "cell_type": "code",
   "execution_count": 33,
   "metadata": {},
   "outputs": [
    {
     "name": "stdout",
     "output_type": "stream",
     "text": [
      "Model: \"sequential_2\"\n",
      "_________________________________________________________________\n",
      " Layer (type)                Output Shape              Param #   \n",
      "=================================================================\n",
      " conv2d_8 (Conv2D)           (None, 140, 252, 8)       608       \n",
      "                                                                 \n",
      " max_pooling2d_8 (MaxPooling  (None, 70, 126, 8)       0         \n",
      " 2D)                                                             \n",
      "                                                                 \n",
      " conv2d_9 (Conv2D)           (None, 66, 122, 16)       3216      \n",
      "                                                                 \n",
      " max_pooling2d_9 (MaxPooling  (None, 33, 61, 16)       0         \n",
      " 2D)                                                             \n",
      "                                                                 \n",
      " conv2d_10 (Conv2D)          (None, 29, 57, 32)        12832     \n",
      "                                                                 \n",
      " max_pooling2d_10 (MaxPoolin  (None, 14, 28, 32)       0         \n",
      " g2D)                                                            \n",
      "                                                                 \n",
      " conv2d_11 (Conv2D)          (None, 10, 24, 64)        51264     \n",
      "                                                                 \n",
      " max_pooling2d_11 (MaxPoolin  (None, 5, 12, 64)        0         \n",
      " g2D)                                                            \n",
      "                                                                 \n",
      " flatten_2 (Flatten)         (None, 3840)              0         \n",
      "                                                                 \n",
      " dense_4 (Dense)             (None, 256)               983296    \n",
      "                                                                 \n",
      " dense_5 (Dense)             (None, 1)                 257       \n",
      "                                                                 \n",
      "=================================================================\n",
      "Total params: 1,051,473\n",
      "Trainable params: 1,051,473\n",
      "Non-trainable params: 0\n",
      "_________________________________________________________________\n"
     ]
    }
   ],
   "source": [
    "model=tf.keras.models.Sequential([\n",
    "    tf.keras.layers.Conv2D(8,(5,5),activation=\"relu\",input_shape=(144,256,3)),\n",
    "    tf.keras.layers.MaxPooling2D(2, 2),\n",
    "    tf.keras.layers.Conv2D(16,(5,5),activation=\"relu\"),\n",
    "    tf.keras.layers.MaxPooling2D(2, 2),\n",
    "    tf.keras.layers.Conv2D(32,(5,5),activation=\"relu\"),\n",
    "    tf.keras.layers.MaxPooling2D(2, 2),\n",
    "    tf.keras.layers.Conv2D(64,(5,5),activation=\"relu\"),\n",
    "    tf.keras.layers.MaxPooling2D(2, 2),\n",
    "    tf.keras.layers.Flatten(),\n",
    "    #tf.keras.layers.Dense(16,activation=\"relu\"),\n",
    "    #tf.keras.layers.Dense(32,activation=\"relu\"),\n",
    "    tf.keras.layers.Dense(256,activation=\"relu\"),\n",
    "    tf.keras.layers.Dense(1,activation=\"sigmoid\")\n",
    "           ])\n",
    "\n",
    "model.compile(optimizer='adam',\n",
    "              loss=tf.keras.losses.BinaryCrossentropy(from_logits=False),\n",
    "              metrics=['accuracy'])\n",
    "\n",
    "model.summary()"
   ]
  },
  {
   "cell_type": "code",
   "execution_count": 34,
   "metadata": {},
   "outputs": [
    {
     "name": "stdout",
     "output_type": "stream",
     "text": [
      "Epoch 1/5\n",
      "3/3 [==============================] - 1s 214ms/step - loss: 78.7729 - accuracy: 0.5263\n",
      "Epoch 2/5\n",
      "3/3 [==============================] - 1s 221ms/step - loss: 5.1309 - accuracy: 0.7368\n",
      "Epoch 3/5\n",
      "3/3 [==============================] - 1s 202ms/step - loss: 0.5314 - accuracy: 0.7368\n",
      "Epoch 4/5\n",
      "3/3 [==============================] - 1s 203ms/step - loss: 0.1672 - accuracy: 0.9079\n",
      "Epoch 5/5\n",
      "3/3 [==============================] - 1s 228ms/step - loss: 0.0448 - accuracy: 1.0000\n",
      "model trained in 4.250584500001423\n"
     ]
    }
   ],
   "source": [
    "t0 = perf_counter()\n",
    "history = model.fit(ds_train, epochs=5)\n",
    "print('model trained in',perf_counter()-t0)"
   ]
  },
  {
   "cell_type": "code",
   "execution_count": 43,
   "metadata": {},
   "outputs": [
    {
     "name": "stdout",
     "output_type": "stream",
     "text": [
      "1/1 [==============================] - 0s 36ms/step\n",
      "1/1 [==============================] - 0s 42ms/step\n"
     ]
    }
   ],
   "source": [
    "test_images = []\n",
    "test_file_count = 0\n",
    "i = 0\n",
    "file = None\n",
    "for path, subdirs, files in os.walk('manual_test'):\n",
    "    for file in files:\n",
    "        test_images.append(np.expand_dims(cv.imread(os.path.join(path,file)),0))\n",
    "\n",
    "i = 0\n",
    "predictions = []\n",
    "for i in range(len(test_images)):\n",
    "    predictions.append(model.predict(test_images[i]))"
   ]
  },
  {
   "cell_type": "code",
   "execution_count": 44,
   "metadata": {},
   "outputs": [
    {
     "data": {
      "text/plain": [
       "[array([[0.00616458]], dtype=float32), array([[0.98676795]], dtype=float32)]"
      ]
     },
     "execution_count": 44,
     "metadata": {},
     "output_type": "execute_result"
    }
   ],
   "source": [
    "plt.plot(predictions)"
   ]
  }
 ],
 "metadata": {
  "kernelspec": {
   "display_name": "Python 3.10.7 64-bit",
   "language": "python",
   "name": "python3"
  },
  "language_info": {
   "codemirror_mode": {
    "name": "ipython",
    "version": 3
   },
   "file_extension": ".py",
   "mimetype": "text/x-python",
   "name": "python",
   "nbconvert_exporter": "python",
   "pygments_lexer": "ipython3",
   "version": "3.10.8"
  },
  "orig_nbformat": 4,
  "vscode": {
   "interpreter": {
    "hash": "16ed1ad39f6cb4eaf53d86c55f2d34bac14d0f596ee8dc47839d2863d7ce4162"
   }
  }
 },
 "nbformat": 4,
 "nbformat_minor": 2
}
